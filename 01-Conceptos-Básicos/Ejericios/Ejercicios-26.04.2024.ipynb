{
 "cells": [
  {
   "cell_type": "code",
   "execution_count": null,
   "metadata": {},
   "outputs": [],
   "source": [
    "# Muestra por pantalla los números comprendidos entre 1 y 10\n",
    "for numero in range(1, 11):\n",
    "    print(numero)"
   ]
  },
  {
   "cell_type": "code",
   "execution_count": null,
   "metadata": {},
   "outputs": [],
   "source": [
    "# Muestra la tabla de multiplicar de n\n",
    "n = int(input(\"Introduce un número: \"))\n",
    "\n",
    "for numero in range(1, 11):\n",
    "    print(f\"{n} x {numero} = {n * numero}\")"
   ]
  },
  {
   "cell_type": "code",
   "execution_count": null,
   "metadata": {},
   "outputs": [],
   "source": [
    "# Muestra por pantalla los números pares comprendidos entre 1 y 10\n",
    "# Solo modifincado el FOR\n",
    "for numero in range(2, 11, 2):\n",
    "    print(numero)"
   ]
  },
  {
   "cell_type": "code",
   "execution_count": null,
   "metadata": {},
   "outputs": [],
   "source": [
    "# Muestra por pantalla los números pares comprendidos entre 1 y 10\n",
    "# Solo modifincado el bloque del FOR\n",
    "for numero in range(1, 11):    \n",
    "    if (numero % 2 != 0):\n",
    "        continue;\n",
    "    \n",
    "    print(f\"{numero} \", end=\"\")"
   ]
  },
  {
   "cell_type": "code",
   "execution_count": null,
   "metadata": {},
   "outputs": [],
   "source": [
    "for numero in range(1, 11): \n",
    "    print(f\"-> {numero} \") if (numero % 2 == 0) else (None)\n",
    "\n",
    "# print(f\"{numero}-\", end=\"\")"
   ]
  }
 ],
 "metadata": {
  "kernelspec": {
   "display_name": "Python 3",
   "language": "python",
   "name": "python3"
  },
  "language_info": {
   "codemirror_mode": {
    "name": "ipython",
    "version": 3
   },
   "file_extension": ".py",
   "mimetype": "text/x-python",
   "name": "python",
   "nbconvert_exporter": "python",
   "pygments_lexer": "ipython3",
   "version": "3.12.3"
  }
 },
 "nbformat": 4,
 "nbformat_minor": 2
}
