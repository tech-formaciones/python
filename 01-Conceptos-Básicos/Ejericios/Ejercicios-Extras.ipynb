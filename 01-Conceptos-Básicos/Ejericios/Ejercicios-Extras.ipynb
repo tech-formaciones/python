{
 "cells": [
  {
   "cell_type": "code",
   "execution_count": null,
   "metadata": {},
   "outputs": [],
   "source": [
    "#######################################################################\n",
    "# Escribe un programa que calcule la velocidad en km/h\n",
    "#\n",
    "# Requerimientos:\n",
    "#\n",
    "#   -> La información la tenemos en metros y minutos\n",
    "#   -> Mostrar la velocidad en km/h y un comentario indicando si es \n",
    "#      alta, baja o moderada\n",
    "#   -> Alta por encima de 75km/h; \n",
    "#      Baja por debajo de 30km/h; \n",
    "#      el resto moderada\n",
    "#\n",
    "#######################################################################"
   ]
  },
  {
   "cell_type": "code",
   "execution_count": null,
   "metadata": {},
   "outputs": [],
   "source": [
    "#######################################################################\n",
    "# Escribe un programa que sume los números pares\n",
    "#\n",
    "# Requerimientos:\n",
    "#\n",
    "#   -> Pregunta 10 veces un número al usuario\n",
    "#   -> Al finalizar muestra la suma de los números pares\n",
    "#\n",
    "#######################################################################"
   ]
  },
  {
   "cell_type": "code",
   "execution_count": null,
   "metadata": {},
   "outputs": [],
   "source": [
    "#######################################################################\n",
    "# Escribe un programa que sume los números pares\n",
    "#\n",
    "# Requerimientos:\n",
    "#\n",
    "#   -> Pregunta un número al usuario, puede ser positivo o negativo\n",
    "#   -> El número introducido por el usuario no puede ser cero\n",
    "#   -> Muestra la suma de los número pares desde cero al número\n",
    "#      introducido por el usuario\n",
    "#\n",
    "#######################################################################"
   ]
  },
  {
   "cell_type": "code",
   "execution_count": null,
   "metadata": {},
   "outputs": [],
   "source": [
    "#######################################################################\n",
    "# Escribe un programa que cuente vocales\n",
    "#\n",
    "# Requerimientos:\n",
    "#\n",
    "#   -> Pregunta una frase al usuario\n",
    "#   -> Cuenta el número de cada vocal tanto en mayúsculas como en\n",
    "#      minúsculas\n",
    "#\n",
    "#######################################################################"
   ]
  },
  {
   "cell_type": "code",
   "execution_count": 7,
   "metadata": {},
   "outputs": [
    {
     "name": "stdout",
     "output_type": "stream",
     "text": [
      "9\n"
     ]
    }
   ],
   "source": [
    "#######################################################################\n",
    "# Escribe un programa que adivine un número\n",
    "#\n",
    "# Requerimientos:\n",
    "#\n",
    "#   -> Se calcula un número de forma aleatoria entre 1 y 100\n",
    "#   -> Pregunta el número hasta que el usuario lo adivine\n",
    "#   -> Cuando el usuario no acierta hay que mostra un mensaje\n",
    "#      más o menos y cuando este a menos de 10 número hay que\n",
    "#      el mensaje caliente caliente\n",
    "#\n",
    "#######################################################################\n",
    "\n",
    "import random\n",
    "\n",
    "# Generar un número aleatorio entre 1 y 100\n",
    "numero_aleatorio = random.randint(1, 100)"
   ]
  },
  {
   "cell_type": "code",
   "execution_count": null,
   "metadata": {},
   "outputs": [],
   "source": [
    "#######################################################################\n",
    "# Escribe un programa que sume los digitos de un número\n",
    "#\n",
    "# Requerimientos:\n",
    "#\n",
    "#   -> Pregunta el número al usuario\n",
    "#   -> Muestra el resultado de la suma\n",
    "#  \n",
    "# Si el usurio indica el número 159 tenemos que calcular la suma de\n",
    "# los números 1 + 5 + 9\n",
    "#\n",
    "#######################################################################"
   ]
  },
  {
   "cell_type": "code",
   "execution_count": null,
   "metadata": {},
   "outputs": [],
   "source": [
    "#######################################################################\n",
    "# Escribe un programa que determine si una frase es un polidromo\n",
    "#\n",
    "# Requerimientos:\n",
    "#\n",
    "#   -> Pregunta una frase al usuario\n",
    "#   -> Responde: La frase SI/NO es un polidromo\n",
    "#   \n",
    "# Los POLIDROMOS son palabras o frases que se leen igual de izquierda\n",
    "# a derecha, que de derecha a izquierda. Por ejemplo:\n",
    "#\n",
    "#   Allí ves Sevilla\n",
    "#   A mí me mima\n",
    "#\n",
    "#######################################################################"
   ]
  }
 ],
 "metadata": {
  "kernelspec": {
   "display_name": "Python 3",
   "language": "python",
   "name": "python3"
  },
  "language_info": {
   "codemirror_mode": {
    "name": "ipython",
    "version": 3
   },
   "file_extension": ".py",
   "mimetype": "text/x-python",
   "name": "python",
   "nbconvert_exporter": "python",
   "pygments_lexer": "ipython3",
   "version": "3.12.3"
  }
 },
 "nbformat": 4,
 "nbformat_minor": 2
}
