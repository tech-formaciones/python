{
 "cells": [
  {
   "cell_type": "code",
   "execution_count": 29,
   "metadata": {},
   "outputs": [
    {
     "name": "stdout",
     "output_type": "stream",
     "text": [
      "Datos de entrada: (15, '20', 'div')\n"
     ]
    },
    {
     "data": {
      "text/plain": [
       "0.75"
      ]
     },
     "execution_count": 29,
     "metadata": {},
     "output_type": "execute_result"
    }
   ],
   "source": [
    "################################################################################\n",
    "#\n",
    "# Requerimientos funcionales:\n",
    "#\n",
    "#   -> Retorna el resultado del calculo solicitado sobre dos número\n",
    "#\n",
    "#   args:   posición 0: un número\n",
    "#           posición 1: un número\n",
    "#           posición 2: un texto con la operación a realizar\n",
    "#                       (sum, res, div, mul)\n",
    "#\n",
    "#   Si no se indica operación a realizar, por defecto se realiza una suma.\n",
    "#\n",
    "#   Si alguno de los args no son validos, indicaremos que la operación no se\n",
    "#   puede realizar con el mensaje de Operativa no valida.\n",
    "#\n",
    "################################################################################\n",
    "\n",
    "def Calculadora(*args):\n",
    "    print(f\"Datos de entrada: {args}\")\n",
    "\n",
    "    operativa = \"sum\"\n",
    "    numero1 = 0\n",
    "    numero2 = 0\n",
    "\n",
    "    try:\n",
    "        if(len(args) == 2 or len(args) == 3):\n",
    "            # validación operativa\n",
    "            if(len(args) == 3):\n",
    "                if(args[2].lower() in {\"sum\", \"res\", \"div\", \"mul\"}):\n",
    "                    operativa = args[2].lower()\n",
    "                else:\n",
    "                    return \"El argumento de la operativa no es valido\"\n",
    "                \n",
    "            # validación número 1\n",
    "            if (isinstance(args[0], int) or isinstance(args[0], float)):\n",
    "                numero1 = args[0]\n",
    "            elif (isinstance(args[0], str)):\n",
    "                if (args[0].isdigit()):\n",
    "                    numero1 = float(args[0])\n",
    "                else:\n",
    "                   return \"El argumento numero 1 no es valido\" \n",
    "            else:\n",
    "                return \"El argumento numero 1 no es valido\"\n",
    "            \n",
    "            # validación número 2\n",
    "            if (type(args[1]) == int or type(args[1]) == float):\n",
    "                numero2 = args[1]\n",
    "            elif (type(args[1]) == str):\n",
    "                if (args[1].isdigit()):\n",
    "                    numero2 = float(args[1])\n",
    "                else:\n",
    "                   return \"El argumento numero 2 no es valido\"\n",
    "            else:\n",
    "                return \"El argumento numero 2 no es valido\"\n",
    "\n",
    "            # realizamos el calculo y retornamos el resultado\n",
    "            if (operativa == \"sum\"):\n",
    "                return numero1 + numero2\n",
    "            elif (operativa == \"res\"):\n",
    "                return numero1 - numero2\n",
    "            elif (operativa == \"div\"):\n",
    "                return numero1 / numero2\n",
    "            elif (operativa == \"mul\"):\n",
    "                return numero1 * numero2             \n",
    "        else:\n",
    "            return \"Argumentos no validos\"\n",
    "    except Exception as err:\n",
    "        return f\"Error: {err}\"\n",
    "    \n",
    "\n",
    "Calculadora(15, \"20\", \"div\")"
   ]
  }
 ],
 "metadata": {
  "kernelspec": {
   "display_name": "Python 3",
   "language": "python",
   "name": "python3"
  },
  "language_info": {
   "codemirror_mode": {
    "name": "ipython",
    "version": 3
   },
   "file_extension": ".py",
   "mimetype": "text/x-python",
   "name": "python",
   "nbconvert_exporter": "python",
   "pygments_lexer": "ipython3",
   "version": "3.12.3"
  }
 },
 "nbformat": 4,
 "nbformat_minor": 2
}
