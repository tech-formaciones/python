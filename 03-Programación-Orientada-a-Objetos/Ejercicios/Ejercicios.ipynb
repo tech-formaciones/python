{
 "cells": [
  {
   "cell_type": "code",
   "execution_count": null,
   "metadata": {},
   "outputs": [],
   "source": [
    "################################################################################\n",
    "#\n",
    "# Requerimientos funcionales:\n",
    "#\n",
    "#   -> Retorna el resultado del calculo solicitado sobre dos número\n",
    "#\n",
    "#   args:   posición 0: un número\n",
    "#           posición 1: un número\n",
    "#           posición 2: un texto con la operación a realizar\n",
    "#                       (sum, res, div, mul)\n",
    "#\n",
    "#   Si no se indica operación a realizar, por defecto se realiza una suma.\n",
    "#\n",
    "#   Si alguno de los args no son validos, indicaremos que la operación no se\n",
    "#   puede realizar con el mensaje de Operativa no valida.\n",
    "#\n",
    "################################################################################\n",
    "\n",
    "def Calculadora(*args):\n",
    "    operativa = \"sum\"\n",
    "    numero1 = 0\n",
    "    numero2 = 0\n",
    "\n",
    "    try:\n",
    "        if(len(args) == 2 or len(args) == 3):\n",
    "            # validación operativa\n",
    "            if(len(args) == 3):\n",
    "                if(args[2].lower() in {\"sum\", \"res\", \"div\", \"mul\"}):\n",
    "                    operativa = args[2].lower()\n",
    "                else:\n",
    "                    return \"El argumento de la operativa no es valido\"\n",
    "                \n",
    "            # validación número 1\n",
    "\n",
    "        else:\n",
    "            return \"Argumentos no validos\"\n",
    "    except Exception as err:\n",
    "        return f\"Error: {err}\"\n",
    "    \n",
    "\n",
    "Calculadora(10, 20, \"hhh\")\n"
   ]
  }
 ],
 "metadata": {
  "kernelspec": {
   "display_name": "Python 3",
   "language": "python",
   "name": "python3"
  },
  "language_info": {
   "codemirror_mode": {
    "name": "ipython",
    "version": 3
   },
   "file_extension": ".py",
   "mimetype": "text/x-python",
   "name": "python",
   "nbconvert_exporter": "python",
   "pygments_lexer": "ipython3",
   "version": "3.12.3"
  }
 },
 "nbformat": 4,
 "nbformat_minor": 2
}
