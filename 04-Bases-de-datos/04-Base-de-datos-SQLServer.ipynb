{
 "cells": [
  {
   "cell_type": "code",
   "execution_count": null,
   "metadata": {},
   "outputs": [],
   "source": [
    "import pymssql"
   ]
  },
  {
   "cell_type": "code",
   "execution_count": null,
   "metadata": {},
   "outputs": [],
   "source": [
    "import pymssql\n",
    "\n",
    "# Establecer la conexión con la base de datos\n",
    "connection = pymssql.connect(\n",
    "    server=\"hostdb2-eoi.database.windows.net\",\n",
    "    port=\"1433\",\n",
    "    user=\"Administrador\",\n",
    "    password=\"azurePa$$w0rd\",\n",
    "    database=\"Northwind\"\n",
    ")\n",
    "\n",
    "# Creamos un cursor para ejecutar comando en la base de datos\n",
    "# Creamos un cursor que retorna Tuplas\n",
    "cursor = connection.cursor()\n",
    "\n",
    "# Creamos un cursor que retorna Diccionarios\n",
    "cursor = connection.cursor(as_dict=True)"
   ]
  },
  {
   "cell_type": "code",
   "execution_count": null,
   "metadata": {},
   "outputs": [],
   "source": [
    "######################################################\n",
    "# SELECT, leer registros de la base de datos\n",
    "######################################################\n",
    "\n",
    "# Creamos un cursor que retorna Diccionarios\n",
    "cursor = connection.cursor(as_dict=True)\n",
    "\n",
    "# Ejemplos del comando SELECT, para leer registros de la base de datos\n",
    "cursor.execute(\"SELECT * FROM dbo.Customers\")\n",
    "\n",
    "# Mostar el contenido del cursor utilizando un WHILE\n",
    "row = cursor.fetchone()\n",
    "while (row):\n",
    "    print(f\"      ID: {row[\"CustomerID\"]}\")\n",
    "    print(f\" Empresa: {row[\"CompanyName\"]} - {row[\"City\"]} ({row[\"Country\"]})\\n\")\n",
    "    row = cursor.fetchone()"
   ]
  },
  {
   "cell_type": "code",
   "execution_count": null,
   "metadata": {},
   "outputs": [],
   "source": [
    "# Creamos un cursor que retorna Diccionarios\n",
    "cursor = connection.cursor(as_dict=True)\n",
    "\n",
    "# Ejemplos del comando SELECT, para leer registros de la base de datos\n",
    "cursor.execute(\"SELECT * FROM dbo.Customers\")\n",
    "\n",
    "# Mostar el contenido del cursor utilizando un FOR\n",
    "cursor.execute(\"SELECT * FROM dbo.Customers\")\n",
    "for row in cursor.fetchall():\n",
    "    print(f\">      ID: {row[\"CustomerID\"]}\")\n",
    "    print(f\"> Empresa: {row[\"CompanyName\"]\n",
    "                        } - {row[\"City\"]} ({row[\"Country\"]})\\n\")"
   ]
  },
  {
   "cell_type": "code",
   "execution_count": null,
   "metadata": {},
   "outputs": [],
   "source": [
    "######################################################\n",
    "# SELECT, leer registros de la base de datos\n",
    "######################################################\n",
    "\n",
    "# Creamos un cursor que retorna Tuplas\n",
    "cursor = connection.cursor()\n",
    "\n",
    "# Ejemplos del comando SELECT, para leer registros de la base de datos\n",
    "cursor.execute(\"SELECT * FROM dbo.Customers\")\n",
    "\n",
    "# Mostar el contenido del cursor utilizando un WHILE\n",
    "row = cursor.fetchone()\n",
    "while (row):\n",
    "    print(f\"      ID: {row[0]}\")\n",
    "    print(f\" Empresa: {row[1]} - {row[5]} ({row[8]})\\n\")\n",
    "    row = cursor.fetchone()"
   ]
  },
  {
   "cell_type": "code",
   "execution_count": null,
   "metadata": {},
   "outputs": [],
   "source": [
    "# Creamos un cursor que retorna Tuplas\n",
    "cursor = connection.cursor()\n",
    "\n",
    "# Ejemplos del comando SELECT, para leer registros de la base de datos\n",
    "cursor.execute(\"SELECT * FROM dbo.Customers\")\n",
    "\n",
    "# Mostar el contenido del cursor utilizando un FOR\n",
    "for row in cursor.fetchall():\n",
    "    print(f\">      ID: {row[0]}\")\n",
    "    print(f\"> Empresa: {row[1]} - {row[5]} ({row[8]})\\n\")"
   ]
  },
  {
   "cell_type": "code",
   "execution_count": null,
   "metadata": {},
   "outputs": [],
   "source": [
    "######################################################\n",
    "# SELECT, leer registros de la base de datos\n",
    "######################################################\n",
    "\n",
    "# Ejemplos del comando SELECT, para leer registros de la base de datos\n",
    "cursor.execute(\"SELECT * FROM dbo.Customers\")\n",
    "\n",
    "for row in cursor.fetchall():\n",
    "    print(f\"     ID: {row[\"CustomerID\"]}\")\n",
    "    print(f\"Empresa: {row[\"CompanyName\"]} - {row[\"City\"]} ({row[\"Country\"]})\")"
   ]
  },
  {
   "cell_type": "code",
   "execution_count": null,
   "metadata": {},
   "outputs": [],
   "source": [
    "# Ejemplos del comando SELECT, para leer registros de la base de datos\n",
    "cursor.execute(\"SELECT * FROM dbo.Customers WHERE Country = 'USA'\")\n",
    "\n",
    "for row in cursor.fetchall():\n",
    "    print(f\"     ID: {row[\"CustomerID\"]}\")\n",
    "    print(f\"Empresa: {row[\"CompanyName\"]} - {row[\"City\"]} ({row[\"Country\"]})\")"
   ]
  },
  {
   "cell_type": "code",
   "execution_count": null,
   "metadata": {},
   "outputs": [],
   "source": [
    "# Ejemplos del comando SELECT, para leer registros de la base de datos\n",
    "cursor.execute(\"SELECT * FROM dbo.Customers WHERE Country = %d\", \"USA\")\n",
    "\n",
    "for row in cursor.fetchall():\n",
    "    print(f\"     ID: {row[\"CustomerID\"]}\")\n",
    "    print(f\"Empresa: {row[\"CompanyName\"]} - {row[\"City\"]} ({row[\"Country\"]})\")"
   ]
  },
  {
   "cell_type": "code",
   "execution_count": null,
   "metadata": {},
   "outputs": [],
   "source": [
    "# Ejemplos del comando SELECT, para leer registros de la base de datos\n",
    "pais = input(\"Nombre del pais: \")\n",
    "\n",
    "# Opcion A\n",
    "cursor.execute(f\"SELECT * FROM dbo.Customers WHERE Country = '{pais}'\")\n",
    "\n",
    "# Opcion B\n",
    "cursor.execute(\"SELECT * FROM dbo.Customers WHERE Country = %d\", pais)\n",
    "\n",
    "for row in cursor.fetchall():\n",
    "    print(f\"     ID: {row[\"CustomerID\"]}\")\n",
    "    print(f\"Empresa: {row[\"CompanyName\"]} - {row[\"City\"]} ({row[\"Country\"]})\")"
   ]
  },
  {
   "cell_type": "code",
   "execution_count": null,
   "metadata": {},
   "outputs": [],
   "source": [
    "# Ejemplos del comando SELECT, para leer registros de la base de datos\n",
    "cursor.execute(\"SELECT * FROM dbo.Customers WHERE Country = 'USA' AND City = 'San Francisco'\")\n",
    "\n",
    "for row in cursor.fetchall():\n",
    "    print(f\"     ID: {row[\"CustomerID\"]}\")\n",
    "    print(f\"Empresa: {row[\"CompanyName\"]} - {row[\"City\"]} ({row[\"Country\"]})\")"
   ]
  },
  {
   "cell_type": "code",
   "execution_count": null,
   "metadata": {},
   "outputs": [],
   "source": [
    "# Ejemplos del comando SELECT, para leer registros de la base de datos\n",
    "cursor.execute(\"SELECT * FROM dbo.Customers WHERE Country = 'USA' OR Country = 'Germany'\")\n",
    "\n",
    "for row in cursor.fetchall():\n",
    "    print(f\"     ID: {row[\"CustomerID\"]}\")\n",
    "    print(f\"Empresa: {row[\"CompanyName\"]} - {row[\"City\"]} ({row[\"Country\"]})\")"
   ]
  },
  {
   "cell_type": "code",
   "execution_count": null,
   "metadata": {},
   "outputs": [],
   "source": [
    "# Ejemplos del comando SELECT, para leer registros de la base de datos\n",
    "cursor.execute(\"SELECT CustomerID, CompanyName, City, Country FROM dbo.Customers WHERE Country = 'USA'\")\n",
    "\n",
    "for row in cursor.fetchall():\n",
    "    print(f\"     ID: {row[\"CustomerID\"]}\")\n",
    "    print(f\"Empresa: {row[\"CompanyName\"]} - {row[\"City\"]} ({row[\"Country\"]})\")"
   ]
  },
  {
   "cell_type": "code",
   "execution_count": null,
   "metadata": {},
   "outputs": [],
   "source": [
    "# Ejemplos del comando SELECT, para leer registros de la base de datos\n",
    "cursor.execute(\"SELECT * FROM dbo.Customers WHERE Country = 'USA' OR Country = 'Germany' ORDER BY Country\")\n",
    "\n",
    "for row in cursor.fetchall():\n",
    "    print(f\"     ID: {row[\"CustomerID\"]}\")\n",
    "    print(f\"Empresa: {row[\"CompanyName\"]} - {row[\"City\"]} ({row[\"Country\"]})\")"
   ]
  },
  {
   "cell_type": "code",
   "execution_count": null,
   "metadata": {},
   "outputs": [],
   "source": [
    "# Ejemplos del comando SELECT, para leer registros de la base de datos\n",
    "cursor.execute(\"SELECT * FROM dbo.Customers WHERE Country = 'USA' OR Country = 'Germany' ORDER BY Country ASC\")\n",
    "\n",
    "for row in cursor.fetchall():\n",
    "    print(f\"     ID: {row[\"CustomerID\"]}\")\n",
    "    print(f\"Empresa: {row[\"CompanyName\"]} - {row[\"City\"]} ({row[\"Country\"]})\")"
   ]
  },
  {
   "cell_type": "code",
   "execution_count": null,
   "metadata": {},
   "outputs": [],
   "source": [
    "# Ejemplos del comando SELECT, para leer registros de la base de datos\n",
    "cursor.execute(\"SELECT * FROM dbo.Customers WHERE Country = 'USA' OR Country = 'Germany' ORDER BY Country DESC\")\n",
    "\n",
    "for row in cursor.fetchall():\n",
    "    print(f\"     ID: {row[\"CustomerID\"]}\")\n",
    "    print(f\"Empresa: {row[\"CompanyName\"]} - {row[\"City\"]} ({row[\"Country\"]})\")"
   ]
  },
  {
   "cell_type": "code",
   "execution_count": null,
   "metadata": {},
   "outputs": [],
   "source": [
    "# Ejemplos del comando SELECT, para leer registros de la base de datos\n",
    "cursor.execute(\"SELECT * FROM dbo.Customers WHERE Country = 'USA' OR Country = 'Germany' ORDER BY Country, City\")\n",
    "\n",
    "for row in cursor.fetchall():\n",
    "    print(f\"     ID: {row[\"CustomerID\"]}\")\n",
    "    print(f\"Empresa: {row[\"CompanyName\"]} - {row[\"City\"]} ({row[\"Country\"]})\")"
   ]
  },
  {
   "cell_type": "code",
   "execution_count": null,
   "metadata": {},
   "outputs": [],
   "source": [
    "######################################################\n",
    "# SELECT, ejemplos de JOIN\n",
    "######################################################\n",
    "\n",
    "# Ejemplo que comienza con una consulta y realiza 830 subconsultas dentro del for\n",
    "# NO ES UN JOIN, son subconsultas que deben evitarse por rendimiento\n",
    "cursor.execute(\"SELECT * FROM dbo.Orders\")\n",
    "\n",
    "for row in cursor.fetchall():\n",
    "    print(f\" -> {row[\"OrderID\"]}# - {row[\"CustomerID\"]} {row[\"OrderDate\"]}\")\n",
    "\n",
    "    cursor2 = connection.cursor(as_dict=True)\n",
    "    cursor2.execute(\"SELECT * FROM dbo.Employees WHERE EmployeeID = %d\", row[\"EmployeeID\"])\n",
    "    cursor2.execute(f\"SELECT * FROM dbo.Employees WHERE EmployeeID = '{row[\"EmployeeID\"]}'\")\n",
    "    employee = cursor2.fetchone()\n",
    "\n",
    "    print(f\"    Pedido gestionado por el empleado {row[\"EmployeeID\"]}: {employee[\"FirstName\"]} {employee[\"LastName\"]}\")"
   ]
  },
  {
   "cell_type": "code",
   "execution_count": null,
   "metadata": {},
   "outputs": [],
   "source": [
    "# Ejemplo que ser realiza con una consulta\n",
    "# query y query2 contienen el mismo JOIN con distinta sintaxis\n",
    "query = \"\"\"\n",
    "    \"SELECT o.OrderID, o.CustomerID, o.OrderDate, o.EmployeeID, e.FirstName, e.LastName \n",
    "    FROM dbo.Orders AS o, dbo.Employees AS e \n",
    "    WHERE o.EmployeeID = e.EmployeeID\"\n",
    "\"\"\"\n",
    "cursor.execute(query)\n",
    "\n",
    "for row in cursor.fetchall():\n",
    "    print(f\" -> {row[\"OrderID\"]}# - {row[\"CustomerID\"]} {row[\"OrderDate\"]}\")\n",
    "    print(f\"    Pedido gestionado por el empleado {row[\"EmployeeID\"]}: {row[\"FirstName\"]} {row[\"LastName\"]}\")"
   ]
  },
  {
   "cell_type": "code",
   "execution_count": null,
   "metadata": {},
   "outputs": [],
   "source": [
    "# Ejemplo que ser realiza con una consulta\n",
    "# query y query2 contienen el mismo JOIN con distinta sintaxis\n",
    "\n",
    "query2 = \"\"\"\n",
    "    SELECT o.OrderID, o.CustomerID, o.OrderDate, o.EmployeeID, e.FirstName, e.LastName\n",
    "    FROM dbo.Orders AS o\n",
    "    JOIN dbo.Employees AS e\n",
    "    ON o.EmployeeID = e.EmployeeID\n",
    "\"\"\"\n",
    "cursor.execute(query2)\n",
    "\n",
    "for row in cursor.fetchall():\n",
    "    print(f\" -> {row[\"OrderID\"]}# - {row[\"CustomerID\"]} {row[\"OrderDate\"]}\")\n",
    "    print(f\"    Pedido gestionado por el empleado {row[\"EmployeeID\"]}: {row[\"FirstName\"]} {row[\"LastName\"]}\")"
   ]
  },
  {
   "cell_type": "code",
   "execution_count": null,
   "metadata": {},
   "outputs": [],
   "source": [
    "######################################################\n",
    "# SELECT, las agrupaciones\n",
    "######################################################\n",
    "\n",
    "# Listado de clientes de USA y el número de pedidos de cada cliente\n",
    "# NO ES UNA AGRUPACIÓN, es una subconsulta dentro del for que debemos evitar por rendimiento\n",
    "cursor.execute(\"SELECT * FROM dbo.Customers WHERE Country = 'USA'\")\n",
    "for row in cursor.fetchall():\n",
    "    cursor2 = connection.cursor()\n",
    "    cursor2.execute(f\"SELECT COUNT(*) FROM dbo.Orders WHERE CustomerID = '{row[\"CustomerID\"]}'\")\n",
    "    print(f\"{row[\"CustomerID\"]}# {row[\"CompanyName\"]} -> {cursor2.fetchone()[0]} pedidos\")\n",
    "\n",
    "\"\"\"\n",
    "    Opcionalmente podemos trabajar con cursores que retornan diccionarios, pero estamos \n",
    "    obligados a definir alias para el dato calculado usando AS\n",
    "\n",
    "    cursor2 = connection.cursor(as_dict=True)\n",
    "    cursor2.execute(f\"SELECT COUNT(*) AS NumPedidos FROM dbo.Orders WHERE CustomerID = '{row[\"CustomerID\"]}'\")\n",
    "    print(f\"{row[\"CustomerID\"]}# {row[\"CompanyName\"]} -> {cursor2.fetchone()[\"NumPedidos\"]} pedidos\")\n",
    "\"\"\""
   ]
  },
  {
   "cell_type": "code",
   "execution_count": null,
   "metadata": {},
   "outputs": [],
   "source": [
    "# Listado de clientes de USA y el número de pedidos de cada cliente\n",
    "# Solo los cliente con más de 10 pedidos\n",
    "query = \"\"\"\n",
    "    SELECT c.CustomerID, c.CompanyName, COUNT(o.OrderID) AS NumPedidos\n",
    "    FROM dbo.Customers c\n",
    "    JOIN dbo.Orders o\n",
    "    ON c.CustomerID = o.CustomerID\n",
    "    WHERE c.Country = 'USA'\n",
    "    GROUP BY c.CustomerID, c.CompanyName\n",
    "    HAVING COUNT(o.OrderID) > 10\n",
    "\"\"\"\n",
    "cursor.execute(query)\n",
    "for row in cursor.fetchall():\n",
    "    print(f\"{row[\"CustomerID\"]}# {row[\"CompanyName\"]} -> {row[\"NumPedidos\"]} pedidos\")"
   ]
  },
  {
   "cell_type": "code",
   "execution_count": null,
   "metadata": {},
   "outputs": [],
   "source": [
    "######################################################\n",
    "# INSERT, insertar nuevo registros\n",
    "######################################################\n",
    "\n",
    "# Definición de un objeto que representa el registro CUSTOMER\n",
    "class Customer:\n",
    "    CustomerID = None\n",
    "    CompanyName = None\n",
    "    ContactName = None\n",
    "    ContactTitle = None\n",
    "    Address = None\n",
    "    City = None\n",
    "    Region = None\n",
    "    PostalCode = None\n",
    "    Country = None\n",
    "    Phone = None\n",
    "    Fax = None\n",
    "\n",
    "\n",
    "# Instaciamos el objeto CUSTOMER\n",
    "cliente = Customer()\n",
    "cliente.CustomerID = \"DEMO1\"\n",
    "cliente.CompanyName = \"Empresa Uno, SL\"\n",
    "cliente.ContactName = \"Borja\"\n",
    "cliente.ContactTitle = \"Gerente\"\n",
    "cliente.Address = \"Calle Uno, S/N\"\n",
    "cliente.City = \"Madrid\"\n",
    "cliente.Region = \"Madrid\"\n",
    "cliente.PostalCode = \"28016\"\n",
    "cliente.Country = \"España\"\n",
    "cliente.Phone = \"900100100\"\n",
    "cliente.Fax = \"900100200\"\n",
    "\n",
    "# cliente2 es un diccionario que también representa el registro CUSTOMER\n",
    "cliente2 = {\"CustomerID\": \"DEMO2\",\n",
    "            \"CompanyName\": \"Empresa Dos, SL\",\n",
    "            \"ContactName\": \"Borja Cabeza\",\n",
    "            \"ContactTitle\": \"Gerente\",\n",
    "            \"Address\": \"Calle Dos S/N\",\n",
    "            \"City\": \"Madrid\",\n",
    "            \"Region\": \"Madrid\",\n",
    "            \"PostalCode\": \"28019\",\n",
    "            \"Country\": \"España\",\n",
    "            \"Phone\": \"910 101 102\",\n",
    "            \"Fax\": \"910 101 103\"}\n",
    "\n",
    "# INSERT comando de inserción\n",
    "command = \"\"\"\n",
    "    INSERT INTO dbo.Customers(CustomerID, CompanyName, ContactTitle, City, Country)\n",
    "    VALUES('BCR01', 'Company SL', 'Borja Cabeza', 'Madrid', 'España')\n",
    "\"\"\"\n",
    "\n",
    "# Insertamos nuevos registros ejecutado el comando INSERT\n",
    "cursor.execute(command)\n",
    "\n",
    "# Utilizamos la función commit() de la conexión para CONFIRMAR la transación\n",
    "# tanto para operaciones de inserción, actualización y borrado\n",
    "connection.commit()\n",
    "\n",
    "# Utilizamos la función rollback() de la conexión para ANULAR la transación\n",
    "# tanto para operaciones de inserción, actualización y borrado\n",
    "connection.rollback()"
   ]
  },
  {
   "cell_type": "code",
   "execution_count": null,
   "metadata": {},
   "outputs": [],
   "source": [
    "# Ejemplo de un comando INSERT que indica las columnas o campos y sus valores\n",
    "command = \"\"\"\n",
    "    INSERT INTO dbo.Customers(\n",
    "        CustomerID, \n",
    "        CompanyName, \n",
    "        ContactTitle, \n",
    "        City, \n",
    "        Country) VALUES('BCR01', 'Company SL', 'Borja Cabeza', 'Madrid', 'España')\n",
    "\"\"\"\n",
    "\n",
    "cursor.execute(command)\n",
    "connection.commit()"
   ]
  },
  {
   "cell_type": "code",
   "execution_count": null,
   "metadata": {},
   "outputs": [],
   "source": [
    "# Ejemplo de un comando INSERT que indica las columnas o campos y comodines para los valores\n",
    "command2 = \"\"\"\n",
    "    INSERT INTO dbo.Customers(\n",
    "        CustomerID, \n",
    "        CompanyName, \n",
    "        ContactName,\n",
    "        ContactTitle, \n",
    "        City, \n",
    "        Country) VALUES(%s, %s, %s, %s, %s, %s)\n",
    "\"\"\"\n",
    "\n",
    "# Al ejecutar el comando con comides, pasamos como segundo parámetros los valores en una lista\n",
    "cursor.execute(command2, [\"BCR02\", \"Company Demo, SL\",\"Borja\", \"CEO\", \"Valencia\", \"España\"])\n",
    "connection.commit()"
   ]
  },
  {
   "cell_type": "code",
   "execution_count": null,
   "metadata": {},
   "outputs": [],
   "source": [
    "# El mismo ejemplo donde pasamos los valores en una tupla\n",
    "cursor.execute(command2, (\"BCR03\", \"Company Demo, SL\",\"Borja\", \"CEO\", \"Valencia\", \"España\"))\n",
    "connection.commit()"
   ]
  },
  {
   "cell_type": "code",
   "execution_count": null,
   "metadata": {},
   "outputs": [],
   "source": [
    "# Para insertar varios registros al mismo tiempo creamos una lista que contiene en cada posición\n",
    "# una tupla con los valores de cada registro que vamos a insertar\n",
    "data = []\n",
    "data.append((\"BCR10\", \"Company Demo 10, SL\", \"Borja\", \"CEO\", \"Sevilla\", \"España\"))\n",
    "data.append((\"BCR11\", \"Company Demo 11, SL\", \"Carlos\", \"CEO\", \"Bilbao\", \"España\"))\n",
    "data.append((\"BCR12\", \"Company Demo 12, SL\", \"Julian\", \"CEO\", \"Málaga\", \"España\"))\n",
    "\n",
    "# Utilizamos las función .executemany() para insertar varios registro y pasamos como segundo\n",
    "# parámetro la lista de tuplas con los valores de los diferentes registros\n",
    "cursor.executemany(command2, data)\n",
    "connection.commit()\n",
    "\n",
    "# La propieda o variable .rowcount nos devuelve el número de registros insertados, actualizados o borrados\n",
    "print(f\"{cursor.rowcount} registros insertados.\")"
   ]
  },
  {
   "cell_type": "code",
   "execution_count": null,
   "metadata": {},
   "outputs": [],
   "source": [
    "# Ejemplo de un INSERT donde se especifican valores para todos los campos o columnas del registro\n",
    "command = \"\"\"\n",
    "    INSERT INTO dbo.Customers VALUES(\n",
    "        'DEMO2',\n",
    "        'Empresa Dos, SL',\n",
    "        'Borja Cabeza',\n",
    "        'Gerente',\n",
    "        'Calle Dos S/N',\n",
    "        'Madrid',\n",
    "        'Madrid',\n",
    "        '28019',\n",
    "        'España',\n",
    "        '910 101 102',\n",
    "        '910 101 103')\n",
    "\"\"\""
   ]
  },
  {
   "cell_type": "code",
   "execution_count": null,
   "metadata": {},
   "outputs": [],
   "source": [
    "# Ejemplo de un INSERT donde se especifican comodines para los valores para todos los\n",
    "# campos o columnas del registro\n",
    "command = \"\"\"\n",
    "    INSERT INTO dbo.Customers VALUES(%s, %s, %s, %s, %s, %s, %s, %s, %s, %s, %s)\n",
    "\"\"\""
   ]
  },
  {
   "cell_type": "code",
   "execution_count": null,
   "metadata": {},
   "outputs": [],
   "source": [
    "######################################################\n",
    "# UPDATE, actulizar registros\n",
    "######################################################\n",
    "\n",
    "# Utilizamos UPDATE para actualizar registros en la base de datos\n",
    "command = \"\"\"\n",
    "    UPDATE dbo.Customers\n",
    "    SET Address = 'Calle Uno, S/N', ContactName = 'Carlos Sánchez'\n",
    "    WHERE CustomerID = 'BCR11'\n",
    "\"\"\"\n",
    "\n",
    "# Ejecutamos el comando de actulización\n",
    "cursor.execute(command)\n",
    "\n",
    "# Confirmamos la transación y por tanto la operación de actulización\n",
    "connection.commit()\n",
    "\n",
    "# Mostramos los registros actualizados\n",
    "print(f\"{cursor.rowcount} registros actualizados.\")"
   ]
  },
  {
   "cell_type": "code",
   "execution_count": null,
   "metadata": {},
   "outputs": [],
   "source": [
    "# Utilizamos UPDATE para actualizar registros en la base de datos\n",
    "# El comando contiene comodine o parámetros para sustituir por valores en el momento de la ejecución\n",
    "command = \"\"\"\n",
    "    UPDATE dbo.Customers\n",
    "    SET Address = %s, ContactName = %s\n",
    "    WHERE CustomerID = 'BCR12'\n",
    "\"\"\"\n",
    "\n",
    "# Ejecutamos el comando de actulización y pasamos los valores para los comodines o parámetros\n",
    "cursor.execute(command, (\"Calle Principal, 10\", \"María José Sanz\"))\n",
    "\n",
    "# Confirmamos la transación y por tanto la operación de actulización\n",
    "connection.commit()\n",
    "\n",
    "# Mostramos los registros actualizados\n",
    "print(f\"{cursor.rowcount} registros actualizados.\")"
   ]
  },
  {
   "cell_type": "code",
   "execution_count": null,
   "metadata": {},
   "outputs": [],
   "source": [
    "# Utilizamos UPDATE para actualizar registros en la base de datos\n",
    "# El comando contiene comodine o parámetros para sustituir por valores en el momento de la ejecución\n",
    "command = \"\"\"\n",
    "    UPDATE dbo.Customers\n",
    "    SET Address = %s, ContactName = %s\n",
    "    WHERE CustomerID = %s\n",
    "\"\"\"\n",
    "\n",
    "# Ejecutamos el comando de actulización y pasamos los valores para los comodines o parámetros\n",
    "cursor.execute(command, (\"Calle Principal, 10\", \"María Sanz\", \"BCR12\"))\n",
    "\n",
    "# Confirmamos la transación y por tanto la operación de actulización\n",
    "connection.commit()\n",
    "\n",
    "# Mostramos los registros actualizados\n",
    "print(f\"{cursor.rowcount} registros actualizados.\")"
   ]
  },
  {
   "cell_type": "code",
   "execution_count": null,
   "metadata": {},
   "outputs": [],
   "source": [
    "######################################################\n",
    "# DELETE, eliminar registros\n",
    "######################################################\n",
    "\n",
    "# Utilizamos DELETE para eliminar registros en la base de datos\n",
    "command = \"\"\"\n",
    "    DELETE FROM dbo.Customers\n",
    "    WHERE CustomerID = 'BCR10'\n",
    "\"\"\"\n",
    "\n",
    "# Ejecutamos el comando y confirmamos la transación mediante connection.commit()\n",
    "# Si se produce un error retrocedemos la transación mediante connection.rollback() y la operación de borrado se anual\n",
    "# Siempre mostramos el número de registros eliminados\n",
    "try:\n",
    "    cursor.execute(command)\n",
    "    connection.commit()\n",
    "except Exception as e:\n",
    "    connection.rollback()\n",
    "    print(f\"Error: {e}\")\n",
    "finally:\n",
    "    print(f\"{cursor.rowcount} registros eliminados.\")\n",
    "    connection.close()"
   ]
  },
  {
   "cell_type": "code",
   "execution_count": null,
   "metadata": {},
   "outputs": [],
   "source": [
    "# Utilizamos DELETE para eliminar registros en la base de datos, el comando contiene parámetros\n",
    "command = \"\"\"\n",
    "    DELETE FROM dbo.Customers\n",
    "    WHERE CustomerID = %s\n",
    "\"\"\"\n",
    "\n",
    "# Ejecutamos el comando y suminstramos valores para los parámetros\n",
    "try:\n",
    "    cursor.execute(command, (\"BCR11\"))\n",
    "    connection.commit()\n",
    "except Exception as e:\n",
    "    connection.rollback()\n",
    "    print(f\"Error: {e}\")\n",
    "finally:\n",
    "    print(f\"{cursor.rowcount} registros eliminados.\")\n",
    "    connection.close()"
   ]
  }
 ],
 "metadata": {
  "kernelspec": {
   "display_name": "Python 3",
   "language": "python",
   "name": "python3"
  },
  "language_info": {
   "codemirror_mode": {
    "name": "ipython",
    "version": 3
   },
   "file_extension": ".py",
   "mimetype": "text/x-python",
   "name": "python",
   "nbconvert_exporter": "python",
   "pygments_lexer": "ipython3",
   "version": "3.12.3"
  }
 },
 "nbformat": 4,
 "nbformat_minor": 2
}
