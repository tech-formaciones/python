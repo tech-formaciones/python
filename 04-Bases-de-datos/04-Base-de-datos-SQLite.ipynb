{
 "cells": [
  {
   "cell_type": "code",
   "execution_count": null,
   "metadata": {},
   "outputs": [],
   "source": [
    "import sqlite3\n",
    "import json"
   ]
  },
  {
   "cell_type": "code",
   "execution_count": null,
   "metadata": {},
   "outputs": [],
   "source": [
    "# Establecer una conexión con la base de datos, especificando la ruta del fichero\n",
    "# Si el fichero no exite (la base de datos no existe) se crea"
   ]
  },
  {
   "cell_type": "code",
   "execution_count": null,
   "metadata": {},
   "outputs": [],
   "source": [
    "# Ruta absoluta\n",
    "connection = sqlite3.connect(\"C:\\\\Formación_EOI\\\\Repos\\\\python\\\\04-Bases-de-datos\\\\databases\\\\demo.db\")"
   ]
  },
  {
   "cell_type": "code",
   "execution_count": null,
   "metadata": {},
   "outputs": [],
   "source": [
    "# Ruta relativa\n",
    "connection = sqlite3.connect(\".\\\\databases\\\\demo.db\")"
   ]
  },
  {
   "cell_type": "code",
   "execution_count": null,
   "metadata": {},
   "outputs": [],
   "source": [
    "# Ruta, la misma ubicación del fichero de python\n",
    "connection = sqlite3.connect(\"demo.db\")"
   ]
  },
  {
   "cell_type": "code",
   "execution_count": null,
   "metadata": {},
   "outputs": [],
   "source": [
    "# Crea una base de datos en memory ram, es rapido pero lo datos se eliminan al\n",
    "# finalizar la ejecuación de programa Pyhton\n",
    "connection = sqlite3.connect(\":memory:\")"
   ]
  },
  {
   "cell_type": "code",
   "execution_count": null,
   "metadata": {},
   "outputs": [],
   "source": [
    "# Creamos un cursor para ejecutar comandos en la base de datos\n",
    "cursor = connection.cursor()"
   ]
  },
  {
   "cell_type": "code",
   "execution_count": null,
   "metadata": {},
   "outputs": [],
   "source": [
    "# Consultar la existencia de tablas en la base de datos\n",
    "# Si la tabla no existe la creamos\n",
    "command = \"\"\"\n",
    "    SELECT COUNT() FROM sqlite_master WHERE type = 'table' AND name = 'Alumnos'\n",
    "\"\"\"\n",
    "cursor.execute(command)\n",
    "numTablas = cursor.fetchone()[0]\n",
    "print(f\"Número de tablas con nombre Alumnos: {numTablas}\")\n",
    "\n",
    "if (numTablas == 0):\n",
    "    command = \"\"\"\n",
    "        CREATE TABLE Alumnos (id, nombre, apellidos, curso, notas)\n",
    "    \"\"\"\n",
    "    cursor.execute(command)"
   ]
  },
  {
   "cell_type": "code",
   "execution_count": null,
   "metadata": {},
   "outputs": [],
   "source": [
    "# Consultar la existencia de tablas en la base de datos\n",
    "# Si la tabla no existe la creamos\n",
    "command = \"\"\"\n",
    "    SELECT COUNT() FROM sqlite_master WHERE type = 'table' AND name = 'Profesores'\n",
    "\"\"\"\n",
    "cursor.execute(command)\n",
    "numTablas = cursor.fetchone()[0]\n",
    "print(f\"Número de tablas con nombre Profesores: {numTablas}\")\n",
    "\n",
    "if (numTablas == 0):\n",
    "    command = \"\"\"\n",
    "        CREATE TABLE Profesores (id integer, nombre text, apellidos text, curso text, salario real, foto blob)\n",
    "    \"\"\"\n",
    "    cursor.execute(command)"
   ]
  },
  {
   "cell_type": "code",
   "execution_count": null,
   "metadata": {},
   "outputs": [],
   "source": [
    "# Insertamos registros mediante INSERT\n",
    "command = \"INSERT INTO Alumnos (id, nombre) VALUES ('000', 'Borja')\"\n",
    "cursor.execute(command)\n",
    "connection.commit()\n",
    "print(f\"{cursor.rowcount} registros insertados\")"
   ]
  },
  {
   "cell_type": "code",
   "execution_count": null,
   "metadata": {},
   "outputs": [],
   "source": [
    "# Insertamos registros mediante INSERT\n",
    "command = \"INSERT INTO Alumnos VALUES ('001', 'Julian', 'Sánchez', '2A', Null)\"\n",
    "cursor.execute(command)\n",
    "connection.commit()\n",
    "print(f\"{cursor.rowcount} registros insertados\")"
   ]
  },
  {
   "cell_type": "code",
   "execution_count": null,
   "metadata": {},
   "outputs": [],
   "source": [
    "# Insertamos registros mediante INSERT\n",
    "data = [\n",
    "    ('002', 'Ana', 'Trujillo', '2C', None),\n",
    "    ('003', 'Antonio', 'Sánchez', '2A', json.dumps([7.5, 6, 9, 5, 6.9])),\n",
    "    ('004', 'María', 'Sanz', '2B', None)\n",
    "]\n",
    "\n",
    "command = \" INSERT INTO Alumnos VALUES (?, ?, ?, ?, ?)\"\n",
    "cursor.executemany(command, data)\n",
    "connection.commit()\n",
    "print(f\"{cursor.rowcount} registros insertados\")"
   ]
  },
  {
   "cell_type": "code",
   "execution_count": null,
   "metadata": {},
   "outputs": [],
   "source": [
    "# Consultamos registros mediante SELECT\n",
    "command = \"SELECT * FROM Alumnos\"\n",
    "\n",
    "cursor.execute(command)\n",
    "\n",
    "for row in cursor.fetchall():\n",
    "    print(f\"{row[0]}# {row[1]} {row[2]}\")\n",
    "    print(row)\n",
    "    print(\"\")"
   ]
  },
  {
   "cell_type": "code",
   "execution_count": null,
   "metadata": {},
   "outputs": [],
   "source": [
    "# Consultamos registros mediante SELECT\n",
    "command = \"SELECT * FROM Alumnos WHERE curso = '2A' ORDER BY apellidos, nombre\"\n",
    "\n",
    "cursor.execute(command)\n",
    "\n",
    "for row in cursor.fetchall():\n",
    "    print(f\"{row[0]}# {row[1]} {row[2]}\")\n",
    "    print(row)\n",
    "    print(\"\")"
   ]
  },
  {
   "cell_type": "code",
   "execution_count": null,
   "metadata": {},
   "outputs": [],
   "source": [
    "# Actualizamos registros mediante UPDATE\n",
    "command = \"UPDATE Alumnos SET apellidos = 'Cabeza', curso = '2C' WHERE id = '000'\"\n",
    "cursor.execute(command)\n",
    "connection.commit()\n",
    "print(f\"{cursor.rowcount} registros actualizados\")"
   ]
  },
  {
   "cell_type": "code",
   "execution_count": null,
   "metadata": {},
   "outputs": [],
   "source": [
    "# Eliminar registros mediante DELETE\n",
    "command = \"DELETE FROM Alumnos WHERE id = '000'\"\n",
    "cursor.execute(command)\n",
    "connection.commit()\n",
    "print(f\"{cursor.rowcount} registros eliminados\")"
   ]
  }
 ],
 "metadata": {
  "kernelspec": {
   "display_name": "Python 3",
   "language": "python",
   "name": "python3"
  },
  "language_info": {
   "codemirror_mode": {
    "name": "ipython",
    "version": 3
   },
   "file_extension": ".py",
   "mimetype": "text/x-python",
   "name": "python",
   "nbconvert_exporter": "python",
   "pygments_lexer": "ipython3",
   "version": "3.12.3"
  }
 },
 "nbformat": 4,
 "nbformat_minor": 2
}
