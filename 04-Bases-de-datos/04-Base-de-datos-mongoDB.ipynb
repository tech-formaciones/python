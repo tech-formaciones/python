{
 "cells": [
  {
   "cell_type": "code",
   "execution_count": null,
   "metadata": {},
   "outputs": [],
   "source": [
    "from pymongo import MongoClient, collection\n",
    "from bson.objectid import ObjectId\n",
    "from pprint import pprint\n",
    "import sys\n",
    "import json\n",
    "\n",
    "# Creamos un objeto que almacenamos en la variable clientDB\n",
    "# El objeto representa el cliente para trabajar con las bases de datos de mongoDB\n",
    "# Se requiere una cadena de conexión\n",
    "clientDB = MongoClient(\"mongodb://localhost:27017/\")"
   ]
  },
  {
   "cell_type": "code",
   "execution_count": null,
   "metadata": {},
   "outputs": [],
   "source": [
    "######################################################\n",
    "# EJECUTAR COMANDO - Mostrar el estado del servidor\n",
    "######################################################\n",
    "\n",
    "# Nos posicionamos sobre una base de datos, en el ejemplo sobre la base de datos ADMIN\n",
    "db = clientDB.admin\n",
    "\n",
    "# Ejecutamos un comando utilizando la función COMMAND\n",
    "# El comando serverStatus nos retorna el estado del servidor en formato JSON\n",
    "result = db.command(\"serverStatus\")\n",
    "\n",
    "# Mostramos el resultado de la ejecución del comando\n",
    "print(result)"
   ]
  },
  {
   "cell_type": "code",
   "execution_count": null,
   "metadata": {},
   "outputs": [],
   "source": [
    "######################################################\n",
    "# TRABAJAR CON BASES DE DATOS Y SUS COLECCIONES\n",
    "######################################################\n",
    "\n",
    "# Mostrar el nombre de las bases de datos\n",
    "print(clientDB.list_database_names())\n",
    "\n",
    "# El listado de bases de datos es una LISTA de python que podemos recorrer con un FOR\n",
    "for db in clientDB.list_database_names():\n",
    "    print(f\"Nombre: {db}\")\n",
    "    print(f\" -> {clientDB[db].list_collection_names()}\\n\")\n",
    "\n",
    "# Seleccionar una base de datos con la que vamos a trabajar\n",
    "db = clientDB.northwind             # Sintaxis de Objeto\n",
    "db2 = clientDB[\"northwind\"]         # Sintaxis de Colección\n",
    "\n",
    "# Motrar las colecciones que tiene una base de datos\n",
    "# Las colecciones son equivalente a las tablas en las bases de datos relacionales\n",
    "print(db.list_collection_names())\n",
    "print(db2.list_collection_names())\n",
    "print(\"\")\n",
    "\n",
    "# Seleccionar una colección con la que vamos a trabajar\n",
    "collection = clientDB.northwind.customers\n",
    "collection = clientDB[\"northwind\"][\"customers\"]\n",
    "collection = db.customers\n",
    "collection = db[\"customers\"]\n",
    "\n",
    "# Mostramos el número de documentos en la colección\n",
    "# Los documentos son equivalentes a los registros en bases de datos relacionales\n",
    "print(f\"{collection.estimated_document_count()} documentos en {collection.name}\")"
   ]
  },
  {
   "cell_type": "code",
   "execution_count": null,
   "metadata": {},
   "outputs": [],
   "source": [
    "######################################################\n",
    "# TRABAJAR CON LOS DOCUMENTOS DE LAS COLECCIONES\n",
    "######################################################\n",
    "\n",
    "# Mostrar el documento por identificador del objeto\n",
    "# Filtro: _id = identificador\n",
    "result = collection.find_one({\"_id\": ObjectId(\"663a105807258656ed9eae3a\")})\n",
    "pprint(result)\n",
    "print(\"\")"
   ]
  },
  {
   "cell_type": "code",
   "execution_count": null,
   "metadata": {},
   "outputs": [],
   "source": [
    "# Mostrar el primer el documento que coincide con el filtro\n",
    "# Filtro: Country = USA\n",
    "result = collection.find_one({\"Country\": \"USA\"})\n",
    "print(type(result))\n",
    "pprint(result)\n",
    "print(\"\")"
   ]
  },
  {
   "cell_type": "code",
   "execution_count": null,
   "metadata": {},
   "outputs": [],
   "source": [
    "# Mostrar el todos los documentos que coincide con el filtro\n",
    "# Filtro: Country = USA\n",
    "# Retornar un cursor\n",
    "cursor = collection.find({\"Country\": \"USA\"})\n",
    "print(type(cursor))"
   ]
  },
  {
   "cell_type": "code",
   "execution_count": null,
   "metadata": {},
   "outputs": [],
   "source": [
    "# Mostrar el número de documentos de una búsqueda\n",
    "\n",
    "# print(f\"Resultado de la búsqueda {cursor.count()} documentos.\")    # Solo en versiones antiguas\n",
    "\n",
    "print(f\"Resultado de la búsqueda {collection.count_documents({\"Country\": \"USA\"})} documentos.\")"
   ]
  },
  {
   "cell_type": "code",
   "execution_count": null,
   "metadata": {},
   "outputs": [],
   "source": [
    "# Cuando ALIVE retorna TRUE significa que tenemos documentos pendientes de leer en el cursor\n",
    "print(f\"Documentos pendientes de leer: {cursor.alive}\")\n",
    "print(\"\")"
   ]
  },
  {
   "cell_type": "code",
   "execution_count": null,
   "metadata": {},
   "outputs": [],
   "source": [
    "# Utilizamos WHILE para mostrar los documentos del cursor\n",
    "# El bloque del WHILE se ejecuta mientras ALIVE retorne TRUE (documentos pendientes de leer)\n",
    "# Con la función .NEXT() para posicionarnos en el siguiente documentos del cursor\n",
    "while (cursor.alive == True):\n",
    "    document = cursor.next()\n",
    "    pprint(document)\n",
    "    print(\"\")"
   ]
  },
  {
   "cell_type": "code",
   "execution_count": null,
   "metadata": {},
   "outputs": [],
   "source": [
    "# Cuando ALIVE retorna FALSE significa que no tenemos documentos pedientes de leer en el cursor\n",
    "print(f\"Documentos pendientes de leer: {cursor.alive}\")\n",
    "print(\"\")"
   ]
  },
  {
   "cell_type": "code",
   "execution_count": null,
   "metadata": {},
   "outputs": [],
   "source": [
    "######################################################\n",
    "# EJEMPLOS DE BÚSQUEDAS Y UTILIZACIÓN DE OPERADORES\n",
    "######################################################\n",
    "\n",
    "\"\"\"\n",
    "===================================================\n",
    " Listado de operadores relacionales\n",
    "===================================================\n",
    "$eq     - equal - igual\n",
    "$lt     - low than - menor que\n",
    "$lte    - low than equal - menor o igual que\n",
    "$gt     - greater than - mayor que\n",
    "$gte    - greater than equal - mayor o igual que\n",
    "$ne     - not equal - distinto\n",
    "$in     - in - dentro de\n",
    "$nin    - not in - no dentro de\n",
    "$regex  - cumple con la expresión regular\n",
    "\"\"\""
   ]
  },
  {
   "cell_type": "code",
   "execution_count": null,
   "metadata": {},
   "outputs": [],
   "source": [
    "cursor = collection.find({\"Country\": \"USA\"})\n",
    "\n",
    "while (cursor.alive == True):\n",
    "    document = cursor.next()\n",
    "    pprint(document)\n",
    "    print(\"\")"
   ]
  },
  {
   "cell_type": "code",
   "execution_count": null,
   "metadata": {},
   "outputs": [],
   "source": [
    "cursor = collection.find({\"Country\": \"USA\"}).limit(3)\n",
    "\n",
    "while (cursor.alive == True):\n",
    "    document = cursor.next()\n",
    "    pprint(document)\n",
    "    print(\"\")"
   ]
  },
  {
   "cell_type": "code",
   "execution_count": null,
   "metadata": {},
   "outputs": [],
   "source": [
    "cursor = collection.find({\"Country\": \"USA\"}).skip(5)\n",
    "\n",
    "while (cursor.alive == True):\n",
    "    document = cursor.next()\n",
    "    pprint(document)\n",
    "    print(\"\")"
   ]
  },
  {
   "cell_type": "code",
   "execution_count": null,
   "metadata": {},
   "outputs": [],
   "source": [
    "cursor = collection.find({\"Country\": \"USA\"}).skip(5).limit(5)\n",
    "\n",
    "while (cursor.alive == True):\n",
    "    document = cursor.next()\n",
    "    pprint(document)\n",
    "    print(\"\")"
   ]
  },
  {
   "cell_type": "code",
   "execution_count": null,
   "metadata": {},
   "outputs": [],
   "source": [
    "cursor = collection.find({\"Country\": \"USA\"}).sort(\"City\")               # Ordenados de A a W\n",
    "\n",
    "while (cursor.alive == True):\n",
    "    document = cursor.next()\n",
    "    pprint(document)\n",
    "    print(\"\")"
   ]
  },
  {
   "cell_type": "code",
   "execution_count": null,
   "metadata": {},
   "outputs": [],
   "source": [
    "cursor = collection.find({\"Country\": \"USA\"}).sort({\"City\": 1})          # Ordenados de A a W\n",
    "\n",
    "while (cursor.alive == True):\n",
    "    document = cursor.next()\n",
    "    pprint(document)\n",
    "    print(\"\")"
   ]
  },
  {
   "cell_type": "code",
   "execution_count": null,
   "metadata": {},
   "outputs": [],
   "source": [
    "cursor = collection.find({\"Country\": \"USA\"}).sort({\"City\": -1})         # Ordenados de W a A\n",
    "\n",
    "while (cursor.alive == True):\n",
    "    document = cursor.next()\n",
    "    pprint(document)\n",
    "    print(\"\")"
   ]
  },
  {
   "cell_type": "code",
   "execution_count": null,
   "metadata": {},
   "outputs": [],
   "source": [
    "# Buscar clientes de USA, ejemplos con y sin operador\n",
    "cursor = collection.find({\"Country\": \"USA\"})                            # Sin operador\n",
    "cursor = collection.find({\"Country\": {\"$eq\": \"USA\"}})                   # Con operador\n",
    "\n",
    "while (cursor.alive == True):\n",
    "    document = cursor.next()\n",
    "    pprint(document)\n",
    "    print(\"\")"
   ]
  },
  {
   "cell_type": "code",
   "execution_count": null,
   "metadata": {},
   "outputs": [],
   "source": [
    "# Buscar clientes fuera de USA\n",
    "cursor = collection.find({\"Country\": {\"$ne\": \"USA\"}})\n",
    "\n",
    "while (cursor.alive == True):\n",
    "    document = cursor.next()\n",
    "    pprint(document)\n",
    "    print(\"\")"
   ]
  },
  {
   "cell_type": "code",
   "execution_count": null,
   "metadata": {},
   "outputs": [],
   "source": [
    "# Buscar clientes de USA y Mexico, ordenados por país y ciudad\n",
    "cursor = collection.find({\"Country\": {\"$in\": [\"USA\", \"Mexico\"]}}).sort([(\"Country\", 1), (\"City\", 1)])\n",
    "\n",
    "while (cursor.alive == True):\n",
    "    document = cursor.next()\n",
    "    pprint(document)\n",
    "    print(\"\")"
   ]
  },
  {
   "cell_type": "code",
   "execution_count": null,
   "metadata": {},
   "outputs": [],
   "source": [
    "# Buscar clientes que contenienen DE en la clave CustomerID\n",
    "cursor = collection.find({\"CustomerID\": {\"$regex\": \"DE\"}})\n",
    "\n",
    "while (cursor.alive == True):\n",
    "    document = cursor.next()\n",
    "    pprint(document)\n",
    "    print(\"\")"
   ]
  },
  {
   "cell_type": "code",
   "execution_count": null,
   "metadata": {},
   "outputs": [],
   "source": [
    "# Buscar clientes que el CustomerID comienza por A y finaliza con 4 carácteres más\n",
    "cursor = collection.find({\"CustomerID\": {\"$regex\": \"1[A-Z]{4}\"}})\n",
    "\n",
    "while (cursor.alive == True):\n",
    "    document = cursor.next()\n",
    "    pprint(document)\n",
    "    print(\"\")"
   ]
  },
  {
   "cell_type": "code",
   "execution_count": null,
   "metadata": {},
   "outputs": [],
   "source": [
    "# Buscar clientes de la ciudad de San Francisco en USA\n",
    "# El operador AND NO se especifica, pero se aplica de forma implicita o por defecto\n",
    "cursor = collection.find({\"Country\": \"USA\", \"City\": \"San Francisco\"})\n",
    "\n",
    "while (cursor.alive == True):\n",
    "    document = cursor.next()\n",
    "    pprint(document)\n",
    "    print(\"\")"
   ]
  },
  {
   "cell_type": "code",
   "execution_count": null,
   "metadata": {},
   "outputs": [],
   "source": [
    "# Buscar clientes de la ciudad de San Francisco en USA utilizando el operador AND\n",
    "# El operador AND SI se especifica y se aplica de forma explicita\n",
    "cursor = collection.find({\"$and\": [{\"Country\": \"USA\"}, {\"City\": \"San Francisco\"}]})\n",
    "\n",
    "while (cursor.alive == True):\n",
    "    document = cursor.next()\n",
    "    pprint(document)\n",
    "    print(\"\")"
   ]
  },
  {
   "cell_type": "code",
   "execution_count": null,
   "metadata": {},
   "outputs": [],
   "source": [
    "# Buscar clientes de GERMANY o USA utilizar el operador OR\n",
    "# El operador OR se especifica y se aplica de forma explicita\n",
    "cursor = collection.find({\"$or\": [{\"Country\": \"Germany\"}, {\"Country\": \"USA\"}]})\n",
    "\n",
    "while (cursor.alive == True):\n",
    "    document = cursor.next()\n",
    "    pprint(document)\n",
    "    print(\"\")"
   ]
  },
  {
   "cell_type": "code",
   "execution_count": null,
   "metadata": {},
   "outputs": [],
   "source": [
    "# Buscar los clientes de Mexico y sus pedidos\n",
    "cursor = collection.find({\"Country\": \"Mexico\"})\n",
    "\n",
    "while (cursor.alive == True):\n",
    "    document = cursor.next()\n",
    "    print(f\"{document[\"CustomerID\"]}# {document[\"CompanyName\"]} - {document[\"City\"]} ({document[\"Country\"]})\")\n",
    "\n",
    "    pedidos = clientDB.northwind.orders.find({\"CustomerID\": document[\"CustomerID\"]})\n",
    "    while (pedidos.alive):\n",
    "        pedido = pedidos.next()\n",
    "        print(f\">>> {pedido[\"OrderID\"]}# - {pedido[\"OrderDate\"]}\")\n",
    "\n",
    "    print(\"\")"
   ]
  },
  {
   "cell_type": "code",
   "execution_count": null,
   "metadata": {},
   "outputs": [],
   "source": [
    "# Buscar los clientes de Mexico y sus pedidos utilizando agregación AGGREGATE\n",
    "cursor = db.customers.aggregate([\n",
    "    {\"$match\": {\"Country\": \"Mexico\"}},\n",
    "    {\"$sort\": {\"City\": 1}},\n",
    "    {\"$lookup\": {\n",
    "        \"from\": \"orders\",\n",
    "        \"localField\": \"CustomerID\",\n",
    "        \"foreignField\": \"CustomerID\",\n",
    "        \"as\": \"Pedidos\"\n",
    "    }}\n",
    "])\n",
    "\n",
    "while (cursor.alive == True):\n",
    "    doc = cursor.next()\n",
    "    print(f\"{doc[\"CustomerID\"]}# {doc[\"CompanyName\"]} - {doc[\"City\"]} ({doc[\"Country\"]})\")\n",
    "\n",
    "    for pedido in doc[\"Pedidos\"]:\n",
    "        print(f\" >> {pedido[\"OrderID\"]}# - {pedido[\"OrderDate\"]}\")\n",
    "\n",
    "    print(\"\")"
   ]
  },
  {
   "cell_type": "code",
   "execution_count": null,
   "metadata": {},
   "outputs": [],
   "source": [
    "# Buscamos todos los productos con UnitsInStock distinto de cero\n",
    "# Convertir UnitsInStock y UnitPrice en valores númericos\n",
    "# Calcular la suma de multiplica el precio por unidades de cada producto\n",
    "cursor = clientDB.northwind.products.find({\"UnitsInStock\": {\"$ne\": \"0\"}})\n",
    "\n",
    "total = 0\n",
    "\n",
    "while (cursor.alive):\n",
    "    p = cursor.next()\n",
    "    unidades = int(p[\"UnitsInStock\"])\n",
    "    precio = float(p[\"UnitPrice\"])\n",
    "    total = total + (unidades * precio)\n",
    "\n",
    "print(f\"Valor de stock: {total:1.2f}\")"
   ]
  },
  {
   "cell_type": "code",
   "execution_count": null,
   "metadata": {},
   "outputs": [],
   "source": [
    "# Utilizamos AGGREGATE para calcular el valor del stock\n",
    "query = [\n",
    "    {\"$match\": {\"UnitsInStock\": {\"$ne\": \"0\"}}},\n",
    "    {\"$addFields\": {\n",
    "        \"Precio\": {\"$toDouble\": \"$UnitPrice\"},\n",
    "        \"Unidades\":  {\"$toInt\": \"$UnitsInStock\"}\n",
    "    }},\n",
    "    {\"$group\": {\n",
    "        \"_id\": \"Valor del Stock\",\n",
    "        \"Total\": {\"$sum\": {\"$multiply\": [\"$Precio\", \"$Unidades\"]}},\n",
    "        \"Productos\": {\"$sum\": 1}\n",
    "    }}\n",
    "]\n",
    "\n",
    "cursor = clientDB.northwind.products.aggregate(query)\n",
    "pprint(cursor.next())"
   ]
  },
  {
   "cell_type": "code",
   "execution_count": null,
   "metadata": {},
   "outputs": [],
   "source": [
    "######################################################\n",
    "# INSERTAR DOCUMENTOS\n",
    "######################################################\n",
    "\n",
    "# Insertamos un documento partiendo de un objeto de python\n",
    "class Customer:\n",
    "    CustomerID = None\n",
    "    CompanyName = None\n",
    "    ContactName = None\n",
    "    ContactTitle = None\n",
    "    Address = None\n",
    "    City = None\n",
    "    Region = None\n",
    "    PostalCode = None\n",
    "    Country = None\n",
    "    Phone = None\n",
    "    Fax = None\n",
    "\n",
    "\n",
    "cliente = Customer()\n",
    "cliente.CustomerID = \"DEMO1\"\n",
    "cliente.CompanyName = \"Empresa Uno, SL\"\n",
    "cliente.ContactName = \"Borja\"\n",
    "cliente.ContactTitle = \"Gerente\"\n",
    "cliente.Address = \"Calle Uno, S/N\"\n",
    "cliente.City = \"Madrid\"\n",
    "cliente.Region = \"Madrid\"\n",
    "cliente.PostalCode = \"28016\"\n",
    "cliente.Country = \"España\"\n",
    "cliente.Phone = \"900100100\"\n",
    "cliente.Fax = \"900100200\"\n",
    "\n",
    "# Todos los objetos de python tiene una variable o propiedad que es __dict__\n",
    "# que retorna un diccionario de todas sus variables\n",
    "pprint(cliente.__dict__)\n",
    "\n",
    "id = collection.insert_one(cliente.__dict__).inserted_id\n",
    "print(f\"ID del nuevo documento: {id}\")\n",
    "\n",
    "# Insertamos partiendo de un diccionario\n",
    "\n",
    "cliente2 = {\"CustomerID\": \"DEMO2\",\n",
    "            \"CompanyName\": \"Empresa Dos, SL\",\n",
    "            \"ContactName\": \"Borja Cabeza\",\n",
    "            \"ContactTitle\": \"Gerente\",\n",
    "            \"Address\": \"Calle Dos S/N\",\n",
    "            \"City\": \"Madrid\",\n",
    "            \"Region\": \"Madrid\",\n",
    "            \"PostalCode\": \"28019\",\n",
    "            \"Country\": \"España\",\n",
    "            \"Phone\": \"910 101 102\",\n",
    "            \"Fax\": \"910 101 103\"}\n",
    "\n",
    "id = collection.insert_one(cliente2).inserted_id\n",
    "print(f\"ID del nuevo documento: {id}\")"
   ]
  },
  {
   "cell_type": "code",
   "execution_count": null,
   "metadata": {},
   "outputs": [],
   "source": [
    "######################################################\n",
    "# ACTUALIZAR DOCUMENTOS\n",
    "######################################################\n",
    "\n",
    "cliente = collection.find_one({\"CustomerID\": \"DEMO1\"})\n",
    "pprint(cliente)\n",
    "\n",
    "# Actualizamos uno o varios documentos de una colección\n",
    "query = {\"CustomerID\": \"DEMO1\"}\n",
    "\n",
    "# Los nuevo valores para el documento o documentos que vamos actualizar\n",
    "newValues = {\"$set\": {\n",
    "    \"ContactName\": \"Ana Sanz\",\n",
    "    \"PostalCode\": \"28013\"\n",
    "}}\n",
    "\n",
    "# Actualizar el primer documento que retorna la consulta\n",
    "result = collection.update_one(query, newValues)\n",
    "\n",
    "print(f\"{result.matched_count} documentos encontrados\")\n",
    "print(f\"{result.modified_count} documentos modificados\")\n",
    "print(result)\n",
    "\n",
    "# Actualizar el todos los documentos que retorna la consulta\n",
    "result = collection.update_many(query, newValues)\n",
    "\n",
    "print(f\"{result.matched_count} documentos encontrados\")\n",
    "print(f\"{result.modified_count} documentos modificados\")\n",
    "print(result)\n",
    "\n",
    "pprint(collection.find_one(query))"
   ]
  },
  {
   "cell_type": "code",
   "execution_count": null,
   "metadata": {},
   "outputs": [],
   "source": [
    "######################################################\n",
    "# ELIMINAR DOCUMENTOS\n",
    "######################################################\n",
    "\n",
    "# Eliminar el primer documento coincidente con el filtro de búsqueda\n",
    "result = collection.delete_one({\"CustomerID\": \"DEMO2\"})\n",
    "print(result)\n",
    "print(f\"{result.deleted_count} documentos eliminados.\")\n",
    "\n",
    "# Eliminar todos los documentos coincidentes con el filtro de búsqueda\n",
    "result = collection.delete_many({\"CustomerID\": \"DEMO2\"})\n",
    "print(result)\n",
    "print(f\"{result.deleted_count} documentos eliminados.\")"
   ]
  }
 ],
 "metadata": {
  "kernelspec": {
   "display_name": "Python 3",
   "language": "python",
   "name": "python3"
  },
  "language_info": {
   "codemirror_mode": {
    "name": "ipython",
    "version": 3
   },
   "file_extension": ".py",
   "mimetype": "text/x-python",
   "name": "python",
   "nbconvert_exporter": "python",
   "pygments_lexer": "ipython3",
   "version": "3.12.3"
  }
 },
 "nbformat": 4,
 "nbformat_minor": 2
}
