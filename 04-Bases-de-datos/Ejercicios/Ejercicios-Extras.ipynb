{
 "cells": [
  {
   "cell_type": "markdown",
   "metadata": {},
   "source": [
    "### Ejercicio 4A\n",
    "Desarrollas las funciones del siguiente objeto Ejercicios:\n",
    "\n",
    "---\n",
    "```python\n",
    "    def getAllProducts():\n",
    "        pass\n",
    "```\n",
    "    Retorna todos los productos de la colección Products\n",
    "---\n",
    "```python\n",
    "    def getProductById():\n",
    "        pass\n",
    "```\n",
    "    Retorna el producto coincidente con el identificador suministrador por parámetro\n",
    "---\n",
    "```python\n",
    "    def getProductByName():\n",
    "        pass\n",
    "```\n",
    "    Retorna los productos que contienen en el nombre la palabra suministrador por parámetro\n",
    "---\n",
    "```python\n",
    "    def getProductByStock():\n",
    "        pass\n",
    "```\n",
    "    Retorna los productos con stock al inferior al indicado en un primer parámetro. Si se especifica un segundo parámetro se retorna los productos cuyo stock este comprendido entre ambas cantidades.\n",
    "---\n",
    "```python\n",
    "    def getProductByPrice():\n",
    "        pass\n",
    "```\n",
    "    Retorna los productos comprendidos entre un rango de precios, que recibe en una tupla de dos valores en el primer parámetro.\n",
    "---"
   ]
  },
  {
   "cell_type": "code",
   "execution_count": 1,
   "metadata": {},
   "outputs": [],
   "source": [
    "from pymongo import MongoClient, collection\n",
    "from bson.objectid import ObjectId\n",
    "from pprint import pprint\n",
    "import sys\n",
    "import json\n",
    "\n",
    "class Ejercicios:\n",
    "    __client = None\n",
    "    __db = None\n",
    "\n",
    "    def __init__(self) -> None:\n",
    "        __client = MongoClient(\"mongodb://localhost:27017/\")\n",
    "        __db = __client.northwind\n",
    "\n",
    "    def getAllProducts():\n",
    "        pass\n",
    "\n",
    "    def getProductById():\n",
    "        pass\n",
    "\n",
    "    def getProductByName():\n",
    "        pass\n",
    "\n",
    "    def getProductByStock():\n",
    "        pass\n",
    "\n",
    "    def getProductByPrice():\n",
    "        pass\n",
    "\n",
    "\n",
    "e = Ejercicios()"
   ]
  }
 ],
 "metadata": {
  "kernelspec": {
   "display_name": "Python 3",
   "language": "python",
   "name": "python3"
  },
  "language_info": {
   "codemirror_mode": {
    "name": "ipython",
    "version": 3
   },
   "file_extension": ".py",
   "mimetype": "text/x-python",
   "name": "python",
   "nbconvert_exporter": "python",
   "pygments_lexer": "ipython3",
   "version": "3.12.3"
  }
 },
 "nbformat": 4,
 "nbformat_minor": 2
}
